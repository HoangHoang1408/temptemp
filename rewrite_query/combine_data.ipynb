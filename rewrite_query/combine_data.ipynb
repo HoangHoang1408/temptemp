{
 "cells": [
  {
   "cell_type": "code",
   "execution_count": 56,
   "metadata": {},
   "outputs": [],
   "source": [
    "from glob import glob\n",
    "from datasets import Dataset\n",
    "import numpy as np\n",
    "import pandas as pd\n",
    "from pprint import pprint\n",
    "import os\n",
    "import json"
   ]
  },
  {
   "cell_type": "code",
   "execution_count": 57,
   "metadata": {},
   "outputs": [
    {
     "data": {
      "text/plain": [
       "{'history': [{'content': 'Có các sự kiện văn hóa hoặc lễ hội nào diễn ra ở Pará trong suốt năm không?',\n",
       "   'role': 'user'},\n",
       "  {'content': 'Có, có một số sự kiện văn hóa và lễ hội diễn ra ở Pará trong suốt năm. Dưới đây là một số sự kiện đáng chú ý:\\n\\n1. Festival de Ópera do Theatro da Paz - Đây là một lễ hội opera nổi tiếng diễn ra ở Belem vào tháng Ba hàng năm.\\n\\n2. Círio de Nazaré - Đây là một trong những lễ hội tôn giáo lớn nhất ở Brazil và diễn ra ở Belem vào tháng Mười.\\n\\n3. Festa do Çairé - Lễ hội này diễn ra ở Santarém và là một dịp để kỷ niệm văn hóa bản địa với những điệu nhảy, âm nhạc và đồ ăn.\\n\\n4. Festival de Carimbo - Đây là một lễ hội hàng năm ở Belem, nơi các nghệ sĩ địa phương biểu diễn âm nhạc carimbo, một thể loại âm nhạc truyền thống của Pará.\\n\\n5. Arraial de Belo - Đây là một lễ hội truyền thống ở Belo, nơi mọi người nhảy múa và hát theo các bài hát của âm nhạc dân gian Brazil.\\n\\n6. Festival de Parintins - Đây là một lễ hội Amazon diễn ra vào tháng Sáu ở thành phố Parintins, với những điệu nhảy, trang phục và âm nhạc đầy màu sắc.',\n",
       "   'role': 'assistant'},\n",
       "  {'content': 'Wow, có nhiều sự kiện văn hóa và lễ hội ở Pará suốt cả năm! Bạn nghĩ sự kiện nào là phổ biến nhất trong số người dân địa phương?',\n",
       "   'role': 'user'},\n",
       "  {'content': 'Lễ hội phổ biến nhất trong số người dân địa phương ở Pará có lẽ là Círio de Nazaré, một trong những lễ hội tôn giáo lớn nhất ở Brazil. Lễ hội này được dành riêng cho Đức Mẹ Nazareth, thánh bảo trợ của Pará, và thu hút hàng triệu người từ khắp Brazil và cả nước ngoài. Sự kiện chính của lễ hội bao gồm một cuộc diễu hành với tượng Đức Mẹ Nazareth qua các con phố của Belem, và thành phố được trang trí bằng đèn và trang trí đầy màu sắc. Đây là một sự kiện quan trọng đối với người dân địa phương, họ tham gia vào nhiều hoạt động tôn giáo và văn hóa, bao gồm âm nhạc, múa và đồ ăn.',\n",
       "   'role': 'assistant'},\n",
       "  {'content': 'Thật thú vị. Tôi chưa bao giờ tham gia một lễ hội tôn giáo trước đây. Có gì khác để làm hoặc tham quan ở Pará ngoài các sự kiện văn hóa này không?',\n",
       "   'role': 'user'},\n",
       "  {'content': 'Có, ngoài các sự kiện văn hóa, còn rất nhiều hoạt động và địa điểm thú vị để tham quan ở Pará. Pará là một bang với lịch sử và văn hóa phong phú, cũng như vẻ đẹp thiên nhiên phong phú. Dưới đây là một số điểm tham quan và hoạt động hàng đầu bạn có thể tham gia ở Pará:\\n\\n1. Khám phá rừng mưa Amazon - Pará là nơi có một phần quan trọng của rừng mưa Amazon, và đó là một điểm đến lý tưởng cho du lịch sinh thái. Bạn có thể tham gia tour du lịch cùng hướng dẫn viên để thấy động vật hoang dã kỳ lạ, cây cối và cây cỏ nhiệt đới và tìm hiểu về văn hóa bản địa sống trong khu vực này.\\n\\n2. Thưởng thức ẩm thực địa phương - Pará có một ẩm thực độc đáo kết hợp các yếu tố của các truyền thống châu Phi, Bồ Đào Nha và bản địa. Bạn có thể thưởng thức các món đặc sản địa phương như tacacá, pato no tucupi, caruru và nhiều món khác tại các nhà hàng truyền thống trên khắp bang.\\n\\n3. Tham quan các di tích lịch sử - Pará có một số di tích lịch sử và địa danh nổi tiếng, bao gồm Pháo đài Barbalho, Khu Feliz Lusitania và Đền thờ Đức Mẹ Fatima.\\n\\n4. Thưởng thức bãi biển - Có nhiều bãi biển ở Pará như bãi biển Atalaia, bãi biển Salinas, bãi biển Mosqueiro với cát trắng, nước biển xanh và cung cấp nhiều hoạt động giải trí như lướt sóng, đi thuyền buồm và bóng chuyền biển.\\n\\n5. Tham gia du thuyền trên sông - Du thuyền đi dọc sông Amazon; bạn có thể tham gia tour thuyền và khám phá hệ sinh thái sông, nhìn thấy khỉ, chim và động vật hoang dã trong môi trường sống tự nhiên của chúng.\\n\\nPará là điểm đến hoàn hảo cho những người yêu thích phiêu lưu, văn hóa và thiên nhiên, với rất nhiều điều thú vị để thấy và làm.',\n",
       "   'role': 'assistant'}],\n",
       " 'generated_question': '{\"question\": \"Ngoài các sự kiện văn hóa và lễ hội, có những hoạt động hoặc địa điểm nào khác ở Pará mà bạn khuyên người du lịch tham quan hoặc tham gia?\"}'}"
      ]
     },
     "execution_count": 57,
     "metadata": {},
     "output_type": "execute_result"
    }
   ],
   "source": [
    "paths1 = glob(\"/Users/phamhoang1408/Desktop/self-instruct/rewrite_query/query_question/*\")\n",
    "data = []\n",
    "for path in paths1:\n",
    "    with open(path, \"r\") as f:\n",
    "        data.extend(json.load(f))\n",
    "paths2 = glob(\"/Users/phamhoang1408/Desktop/self-instruct/rewrite_query/query_question2/*\")\n",
    "for path in paths2:\n",
    "    temp_paths = glob(path + \"/*.json\")\n",
    "    for temp_path in temp_paths:\n",
    "        with open(temp_path, \"r\") as f:\n",
    "            data.extend(json.load(f))\n",
    "\n",
    "ds = Dataset.from_list(data)\n",
    "ds.shuffle()[0]"
   ]
  },
  {
   "cell_type": "code",
   "execution_count": 58,
   "metadata": {},
   "outputs": [
    {
     "data": {
      "text/plain": [
       "{'history': [{'content': 'Những yếu tố nào đã góp phần vào sự phát triển của Phục hưng ở châu Âu và nó đã ảnh hưởng như thế nào đến nghệ thuật, văn học và khoa học?',\n",
       "   'role': 'user'},\n",
       "  {'content': 'Phục hưng là một giai đoạn tái sinh văn hóa đã xảy ra ở châu Âu trong thế kỷ 14 đến 17 sau Công nguyên. Nó được đặc trưng bởi sự chuyển đổi từ tư tưởng trung cổ sang hiện đại và được đánh dấu bởi sự quan tâm lại đến văn hóa cổ điển, giáo dục và nghệ thuật. Những yếu tố sau đã góp phần vào sự phát triển của Phục hưng ở châu Âu:\\n\\n1. Nhân văn học: Phong trào Nhân văn học đã truyền cảm hứng cho sự phát triển của Phục hưng. Triết lý này khuyến khích việc nghiên cứu văn học cổ điển, giáo dục và nghệ thuật như một cách để hiểu về bản chất con người và thế giới.\\n\\n2. Thương mại và buôn bán: Sự gia tăng thương mại và buôn bán trong thời kỳ Phục hưng đã tạo cơ hội cho việc trao đổi ý tưởng, kiến thức và vật liệu văn hóa từ các vùng khác nhau.\\n\\n3. Bảo trợ: Các bậc bảo trợ giàu có, như gia đình Medici, đã hỗ trợ các nghệ sĩ, học giả và nhà khoa học, cho phép họ phát triển kỹ năng và sản xuất những tác phẩm đột phá.\\n\\n4. Máy in: Sự phát minh của máy in đã cho phép việc phổ biến kiến thức, làm cho sách và văn bản dễ tiếp cận và giá cả phải chăng hơn đối với nhân dân.\\n\\nPhục hưng đã có một tác động đáng kể đến nghệ thuật, văn học và khoa học. Nó đánh dấu sự chuyển tiếp từ tư tưởng trung cổ sang hiện đại và mở đường cho những tiến bộ khoa học và nghệ thuật. Các nghệ sĩ Phục hưng đã tạo ra những kiệt tác như Mona Lisa và Bức tranh trần nhà Sixtina, thử nghiệm với các kỹ thuật và phong cách mới. Văn học đã chứng kiến sự nổi lên của các chủ đề nhân văn, với những nhà văn như William Shakespeare sản xuất những vở kịch biểu hiện tập tục và văn hóa đương thời. Trong khoa học, nhiều khám phá cơ bản đã được thực hiện trong thời gian này, như mô hình mặt trời trung tâm và các luật vật lý của Galileo Galilei. Tổng thể, Phục hưng đã đóng vai trò quan trọng trong việc hình thành văn hóa và bản sắc hiện đại của châu Âu.',\n",
       "   'role': 'assistant'}],\n",
       " 'generated_question': '{\"question\": \"Những yếu tố nào đã góp phần vào sự phát triển của Phục hưng ở châu Âu và nó đã ảnh hưởng như thế nào đến nghệ thuật, văn học và khoa học?\"}'}"
      ]
     },
     "execution_count": 58,
     "metadata": {},
     "output_type": "execute_result"
    }
   ],
   "source": [
    "ds.shuffle()[0]"
   ]
  },
  {
   "cell_type": "code",
   "execution_count": 59,
   "metadata": {},
   "outputs": [
    {
     "data": {
      "application/vnd.jupyter.widget-view+json": {
       "model_id": "7205c2247da84541ae3374fc1436bdc2",
       "version_major": 2,
       "version_minor": 0
      },
      "text/plain": [
       "Map:   0%|          | 0/1540 [00:00<?, ? examples/s]"
      ]
     },
     "metadata": {},
     "output_type": "display_data"
    },
    {
     "data": {
      "application/vnd.jupyter.widget-view+json": {
       "model_id": "61ebde53cdd341fd80d65e8c3a6d3f2d",
       "version_major": 2,
       "version_minor": 0
      },
      "text/plain": [
       "Filter:   0%|          | 0/1540 [00:00<?, ? examples/s]"
      ]
     },
     "metadata": {},
     "output_type": "display_data"
    }
   ],
   "source": [
    "TEMPLATE = \"\"\"Dưới đây là lịch sử trò chuyện cho đến nay, và một câu hỏi mới được đặt ra bởi người dùng. Dựa vào lịch sử trò chuyện và câu hỏi mới, hãy tạo ra một câu hỏi hoàn chỉnh chứa thông tin ngữ cảnh của văn bản để tôi có thể trả lời mà không cần xem lại lịch sử trò chuyện.\n",
    "Lịch sử trò chuyện:\n",
    "{history_text}Câu hỏi mới từ #User: {new_question}\"\"\"\n",
    "def mapper(x):\n",
    "    history = x['history'][:-2]\n",
    "    history_text = \"\"\n",
    "    if len(history) == 0:\n",
    "        history_text = \"Không có lịch sử\\n\"\n",
    "    for h in history:\n",
    "        if h['role'] == 'user':\n",
    "            history_text += \"#USER \" + h['content'] + \"\\n\"\n",
    "        elif h['role'] == 'assistant':\n",
    "            history_text += \"#BOT \" + h['content'] + \"\\n\"\n",
    "    new_question = x['history'][-2]['content']\n",
    "    prompt = TEMPLATE.format(history_text=history_text, new_question=new_question)\n",
    "    try:\n",
    "        return {\n",
    "            'messages': [\n",
    "                {'role': 'user', 'content': prompt},\n",
    "                {'role': 'assistant', 'content': eval(x['generated_question'])['question']}\n",
    "            ]\n",
    "        }\n",
    "    except:\n",
    "        return {\n",
    "            'messages':[]\n",
    "        }\n",
    "ds = ds.map(mapper,remove_columns=['generated_question','history'])\n",
    "ds = ds.filter(lambda x: len(x['messages']) > 0)"
   ]
  },
  {
   "cell_type": "code",
   "execution_count": 65,
   "metadata": {},
   "outputs": [
    {
     "name": "stdout",
     "output_type": "stream",
     "text": [
      "Dưới đây là lịch sử trò chuyện cho đến nay, và một câu hỏi mới được đặt ra bởi người dùng. Dựa vào lịch sử trò chuyện và câu hỏi mới, hãy tạo ra một câu hỏi hoàn chỉnh chứa thông tin ngữ cảnh của văn bản để tôi có thể trả lời mà không cần xem lại lịch sử trò chuyện.\n",
      "Lịch sử trò chuyện:\n",
      "#USER Điều này thật tuyệt vời, tôi đã quên mất. Trước đây có những cuốn sách nấu ăn chỉ dành riêng cho việc này, chúng cung cấp cho bạn thời gian và quãng đường để nấu ăn.\n",
      "Nhưng điều duy nhất tôi muốn bổ sung là hãy chắc chắn rằng bạn không có bất kỳ rò rỉ dầu, nhiên liệu hoặc khí thải nào, nếu không bạn sẽ không thích mùi vị của bữa trưa của mình. Tin tôi đi, tôi là một thợ máy và đã ăn quá nhiều bánh sandwich trong sự vội vã với đôi tay dầu mỡ.\n",
      "Bạn có một ý kiến đúng. Vì lý do đó, có thể tốt hơn là bỏ qua bình luận của tôi về việc để thức ăn trên động cơ trong một thời gian sau khi tắt máy, vì thức ăn sẽ bắt đầu hút không khí trở lại khi nó nguội dần, dù chậm. Bạn có thể đưa ra một gợi ý khác để để thức ăn trên động cơ nấu sau khi tắt máy, với vấn đề tiềm năng được đề cập trong văn bản không?\n",
      "#BOT Một gợi ý khác có thể là sử dụng lò nướng di động hoặc lò nướng di động chạy bằng gas để nấu ăn trong chuyến đi. Điều này loại bỏ vấn đề tiềm năng của thức ăn tiếp xúc với bất kỳ chất lỏng động cơ hoặc khí thải nào, và cho phép kiểm soát nhiệt độ và nấu ăn chính xác hơn.\n",
      "#USER Bạn có thể giới thiệu một lò nướng di động hoặc lò nướng di động cụ thể nào mà bạn nghĩ sẽ tốt nhất cho việc nấu ăn khi di chuyển?\n",
      "#BOT Chắc chắn! Đây là một vài lựa chọn được đánh giá cao và phù hợp cho việc nấu ăn khi di chuyển:\n",
      "\n",
      "1. Lò nướng di động Coleman RoadTrip: Lò nướng chạy bằng gas này nhỏ gọn và dễ di chuyển, nhưng cung cấp đủ công suất nấu ăn với 20.000 BTU. Nó cũng có hệ thống bề mặt nấu ăn có thể thay đổi cho phép bạn chuyển đổi giữa nướng, nướng bằng tấm và nấu ăn trên bếp. 2. Lò nướng di động 2 bếp Camp Chef Everest: Lò nướng đa năng này bao gồm hai bếp áp lực cao và có thể thoải mái chứa các chảo và chảo lớn hơn. Nó cũng có điều khiển nhiệt có thể điều chỉnh, làm cho nó lý tưởng cho nhiều phong cách nấu ăn. 3. Lò nướng di động Eureka Spire LX Camp: Lò nướng nhỏ gọn này được thiết kế cho cắm trại bộ đội, nhưng cũng rất tốt cho cắm trại xe hoặc nấu ăn khi di chuyển. Nó có bếp hiệu suất cao nấu nước nhanh, cũng như màn chắn gió tích hợp để cải thiện hiệu suất trong điều kiện gió mạnh. Tất cả ba lựa chọn này đều được đánh giá cao và được các tín đồ ngoài trời và người cắm trại đánh giá cao.\n",
      "Câu hỏi mới từ #User: Bạn có thể giúp tôi tìm một cuốn sách nấu ăn hoặc hướng dẫn nấu ăn tốt cho việc sử dụng một trong những lò nướng hoặc lò nướng di động này khi di chuyển không?\n",
      "Bạn có thể giới thiệu một cuốn sách nấu ăn hoặc hướng dẫn nấu ăn phù hợp cho việc sử dụng lò nướng di động Coleman RoadTrip, lò nướng di động Camp Chef Everest, hoặc lò nướng di động Eureka Spire LX Camp khi di chuyển không?\n"
     ]
    }
   ],
   "source": [
    "temp = ds.shuffle()[0]\n",
    "print(temp['messages'][0]['content'])\n",
    "print(temp['messages'][1]['content'])"
   ]
  },
  {
   "cell_type": "code",
   "execution_count": 64,
   "metadata": {},
   "outputs": [
    {
     "data": {
      "application/vnd.jupyter.widget-view+json": {
       "model_id": "8880eb5ee6704629aaa08ee81ac0465c",
       "version_major": 2,
       "version_minor": 0
      },
      "text/plain": [
       "Creating json from Arrow format:   0%|          | 0/2 [00:00<?, ?ba/s]"
      ]
     },
     "metadata": {},
     "output_type": "display_data"
    },
    {
     "data": {
      "text/plain": [
       "3784534"
      ]
     },
     "execution_count": 64,
     "metadata": {},
     "output_type": "execute_result"
    }
   ],
   "source": [
    "ds.to_json('./final_dataset.jsonl', force_ascii=False)"
   ]
  },
  {
   "cell_type": "code",
   "execution_count": null,
   "metadata": {},
   "outputs": [],
   "source": []
  }
 ],
 "metadata": {
  "kernelspec": {
   "display_name": "Python 3",
   "language": "python",
   "name": "python3"
  },
  "language_info": {
   "codemirror_mode": {
    "name": "ipython",
    "version": 3
   },
   "file_extension": ".py",
   "mimetype": "text/x-python",
   "name": "python",
   "nbconvert_exporter": "python",
   "pygments_lexer": "ipython3",
   "version": "3.10.7"
  }
 },
 "nbformat": 4,
 "nbformat_minor": 2
}
