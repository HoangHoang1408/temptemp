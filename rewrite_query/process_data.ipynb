{
 "cells": [
  {
   "cell_type": "code",
   "execution_count": 53,
   "metadata": {},
   "outputs": [],
   "source": [
    "from glob import glob\n",
    "from datasets import Dataset\n",
    "import numpy as np\n",
    "import pandas as pd\n",
    "from pprint import pprint\n",
    "import os\n",
    "import json"
   ]
  },
  {
   "cell_type": "code",
   "execution_count": null,
   "metadata": {},
   "outputs": [],
   "source": [
    "oasst_ds = Dataset.from_json(\"./data/oasst_translated.json\")\n",
    "quora_ds = Dataset.from_json(\"./data/quora_chat_data_translated.json\")\n",
    "wivi_ds = Dataset.from_json(\"./data/wizard_vicuna_nocode_translated.jsonl\")"
   ]
  },
  {
   "cell_type": "code",
   "execution_count": null,
   "metadata": {},
   "outputs": [],
   "source": []
  },
  {
   "cell_type": "code",
   "execution_count": 58,
   "metadata": {},
   "outputs": [],
   "source": [
    "en_oasst = Dataset.from_json(\"./data_en/en_oasst.json\")\n",
    "en_wivi = Dataset.from_json(\"./data_en/wizard_vicuna_nocode.jsonl\")\n",
    "with open(\"./data_en/quora_chat_data.json\") as f:\n",
    "    quora_en = json.load(f)\n",
    "quora_en = Dataset.from_list(quora_en)\n",
    "en_ultra = Dataset.from_parquet('./data_en/en_ultra.parquet')"
   ]
  },
  {
   "cell_type": "code",
   "execution_count": 59,
   "metadata": {},
   "outputs": [
    {
     "data": {
      "text/plain": [
       "Dataset({\n",
       "    features: ['prompt', 'prompt_id', 'messages'],\n",
       "    num_rows: 85344\n",
       "})"
      ]
     },
     "execution_count": 59,
     "metadata": {},
     "output_type": "execute_result"
    }
   ],
   "source": [
    "en_ultra"
   ]
  },
  {
   "cell_type": "code",
   "execution_count": 60,
   "metadata": {},
   "outputs": [
    {
     "data": {
      "application/vnd.jupyter.widget-view+json": {
       "model_id": "bf9419bfdec14ef99bfad8c371137023",
       "version_major": 2,
       "version_minor": 0
      },
      "text/plain": [
       "Map:   0%|          | 0/21164 [00:00<?, ? examples/s]"
      ]
     },
     "metadata": {},
     "output_type": "display_data"
    },
    {
     "data": {
      "application/vnd.jupyter.widget-view+json": {
       "model_id": "3eab35e0154545f080b8e01c8cdd422d",
       "version_major": 2,
       "version_minor": 0
      },
      "text/plain": [
       "Map:   0%|          | 0/30468 [00:00<?, ? examples/s]"
      ]
     },
     "metadata": {},
     "output_type": "display_data"
    },
    {
     "data": {
      "application/vnd.jupyter.widget-view+json": {
       "model_id": "fbe7c700b9604b71959a0a5dbd3fb331",
       "version_major": 2,
       "version_minor": 0
      },
      "text/plain": [
       "Map:   0%|          | 0/54456 [00:00<?, ? examples/s]"
      ]
     },
     "metadata": {},
     "output_type": "display_data"
    },
    {
     "data": {
      "application/vnd.jupyter.widget-view+json": {
       "model_id": "c751d17a8646472eb0c7446f27859fe9",
       "version_major": 2,
       "version_minor": 0
      },
      "text/plain": [
       "Filter:   0%|          | 0/54456 [00:00<?, ? examples/s]"
      ]
     },
     "metadata": {},
     "output_type": "display_data"
    },
    {
     "data": {
      "application/vnd.jupyter.widget-view+json": {
       "model_id": "34ea8a0f9bc84905bec38e7d86db20a7",
       "version_major": 2,
       "version_minor": 0
      },
      "text/plain": [
       "Map:   0%|          | 0/54456 [00:00<?, ? examples/s]"
      ]
     },
     "metadata": {},
     "output_type": "display_data"
    },
    {
     "data": {
      "application/vnd.jupyter.widget-view+json": {
       "model_id": "1c46c803d55a4cebbdfcab0a6f76266b",
       "version_major": 2,
       "version_minor": 0
      },
      "text/plain": [
       "Map:   0%|          | 0/85340 [00:00<?, ? examples/s]"
      ]
     },
     "metadata": {},
     "output_type": "display_data"
    }
   ],
   "source": [
    "def mapper(x, key=\"text\"):\n",
    "    text = x[key]\n",
    "    turns = text.split(\"\\n[|\")\n",
    "    messages = []\n",
    "    for turn in turns:\n",
    "        if turn.startswith(\"Human|] \"):\n",
    "            messages.append(\n",
    "                {\"role\": \"user\", \"content\": turn.replace(\"Human|] \", \"\")}\n",
    "            )\n",
    "        elif turn.startswith(\"AI|] \"):\n",
    "            messages.append({\"role\": \"assistant\", \"content\": turn.replace(\"AI|] \", \"\")})\n",
    "        else:\n",
    "            continue\n",
    "    return {\"messages\": [m for m in messages if m[\"content\"] != \"\"]}\n",
    "\n",
    "def mapper2(x):\n",
    "    if x['messages'][0]['role'] != 'user':\n",
    "        x['messages'] = x['messages'][1:]\n",
    "    if x['messages'][-1]['role'] != 'assistant':\n",
    "        x['messages'] = x['messages'][:-1]\n",
    "    return x\n",
    "\n",
    "def filter(x):\n",
    "    messages = x[\"messages\"]\n",
    "    if len(messages) < 2:\n",
    "        return False\n",
    "    current_turn = None\n",
    "    for message in messages:\n",
    "        if current_turn is None:\n",
    "            current_turn = message[\"role\"]\n",
    "        else:\n",
    "            if current_turn == message[\"role\"]:\n",
    "                return False\n",
    "            else:\n",
    "                current_turn = message[\"role\"]\n",
    "    return True\n",
    "\n",
    "\n",
    "en_oasst = en_oasst.map(mapper).filter(filter).map(mapper2).select_columns([\"messages\"])\n",
    "en_wivi = en_wivi.map(lambda x: mapper(x, \"conversations\")).filter(filter).map(mapper2).select_columns([\"messages\"])\n",
    "quora_en = quora_en.map(lambda x: mapper(x, \"input\")).filter(filter).map(mapper2).select_columns([\"messages\"])\n",
    "en_ultra = en_ultra.filter(filter).map(mapper2).select_columns([\"messages\"])"
   ]
  },
  {
   "cell_type": "code",
   "execution_count": 61,
   "metadata": {},
   "outputs": [
    {
     "data": {
      "application/vnd.jupyter.widget-view+json": {
       "model_id": "e920af64ed544033822fe8aeb2f834e2",
       "version_major": 2,
       "version_minor": 0
      },
      "text/plain": [
       "Creating json from Arrow format:   0%|          | 0/22 [00:00<?, ?ba/s]"
      ]
     },
     "metadata": {},
     "output_type": "display_data"
    },
    {
     "data": {
      "application/vnd.jupyter.widget-view+json": {
       "model_id": "ac188746e85144b5a1621e936506ccb9",
       "version_major": 2,
       "version_minor": 0
      },
      "text/plain": [
       "Creating json from Arrow format:   0%|          | 0/31 [00:00<?, ?ba/s]"
      ]
     },
     "metadata": {},
     "output_type": "display_data"
    },
    {
     "data": {
      "application/vnd.jupyter.widget-view+json": {
       "model_id": "f1015a9f54ae402ab77b6724f1c82879",
       "version_major": 2,
       "version_minor": 0
      },
      "text/plain": [
       "Creating json from Arrow format:   0%|          | 0/55 [00:00<?, ?ba/s]"
      ]
     },
     "metadata": {},
     "output_type": "display_data"
    },
    {
     "data": {
      "application/vnd.jupyter.widget-view+json": {
       "model_id": "0b7c4f21040a43f1b0072d1b7bfc766e",
       "version_major": 2,
       "version_minor": 0
      },
      "text/plain": [
       "Creating json from Arrow format:   0%|          | 0/86 [00:00<?, ?ba/s]"
      ]
     },
     "metadata": {},
     "output_type": "display_data"
    },
    {
     "data": {
      "text/plain": [
       "365465929"
      ]
     },
     "execution_count": 61,
     "metadata": {},
     "output_type": "execute_result"
    }
   ],
   "source": [
    "en_oasst.to_json('./en_clean_data/en_oasst.jsonl', force_ascii=False)\n",
    "en_wivi.to_json('./en_clean_data/en_wivi.jsonl', force_ascii=False)\n",
    "quora_en.to_json('./en_clean_data/en_quora.jsonl', force_ascii=False)\n",
    "en_ultra.to_json('./en_clean_data/en_ultra.jsonl', force_ascii=False)"
   ]
  },
  {
   "cell_type": "code",
   "execution_count": null,
   "metadata": {},
   "outputs": [],
   "source": [
    "en_oasst.shuffle()[0]"
   ]
  },
  {
   "cell_type": "code",
   "execution_count": null,
   "metadata": {},
   "outputs": [],
   "source": [
    "oasst_ds.to_json(\"./clean_data/oasst.jsonl\", force_ascii=False)\n",
    "quora_ds.to_json(\"./clean_data/quora.jsonl\", force_ascii=False)\n",
    "share_gpt_ds.to_json(\"./clean_data/share_gpt.jsonl\", force_ascii=False)\n",
    "wivi_ds.to_json(\"./clean_data/wivi.jsonl\", force_ascii=False)"
   ]
  },
  {
   "cell_type": "code",
   "execution_count": null,
   "metadata": {},
   "outputs": [],
   "source": [
    "wivi_ds[0]"
   ]
  },
  {
   "cell_type": "code",
   "execution_count": null,
   "metadata": {},
   "outputs": [],
   "source": []
  }
 ],
 "metadata": {
  "kernelspec": {
   "display_name": "Python 3",
   "language": "python",
   "name": "python3"
  },
  "language_info": {
   "codemirror_mode": {
    "name": "ipython",
    "version": 3
   },
   "file_extension": ".py",
   "mimetype": "text/x-python",
   "name": "python",
   "nbconvert_exporter": "python",
   "pygments_lexer": "ipython3",
   "version": "3.10.7"
  }
 },
 "nbformat": 4,
 "nbformat_minor": 2
}
