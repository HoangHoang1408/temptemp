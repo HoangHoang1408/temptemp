{
 "cells": [
  {
   "cell_type": "code",
   "execution_count": 14,
   "metadata": {},
   "outputs": [],
   "source": [
    "from glob import glob\n",
    "from datasets import Dataset, concatenate_datasets\n",
    "import numpy as np\n",
    "import pandas as pd\n",
    "from pprint import pprint\n",
    "import os\n",
    "import json"
   ]
  },
  {
   "cell_type": "code",
   "execution_count": 6,
   "metadata": {},
   "outputs": [],
   "source": [
    "with open('./data/end_conversation.txt', 'r') as f:\n",
    "    end_conversations = [x.lower() for x in f.read().split('\\n')]"
   ]
  },
  {
   "cell_type": "code",
   "execution_count": 17,
   "metadata": {},
   "outputs": [
    {
     "data": {
      "text/plain": [
       "700"
      ]
     },
     "execution_count": 17,
     "metadata": {},
     "output_type": "execute_result"
    }
   ],
   "source": [
    "len(end_conversations)"
   ]
  },
  {
   "cell_type": "code",
   "execution_count": 15,
   "metadata": {},
   "outputs": [],
   "source": [
    "oasst = Dataset.from_json('./clean_data/oasst.jsonl').shuffle(seed=42).select(range(150))\n",
    "quora = Dataset.from_json('./clean_data/quora.jsonl').shuffle(seed=42).select(range(150))\n",
    "wivi = Dataset.from_json('./clean_data/wivi.jsonl').shuffle(seed=42).select(range(100))\n",
    "vi_ultra = Dataset.from_parquet('./clean_data/vi_ultra.parquet').shuffle(seed=42).select(range(300))\n",
    "final_ds = concatenate_datasets([oasst, quora, wivi, vi_ultra])"
   ]
  },
  {
   "cell_type": "code",
   "execution_count": 21,
   "metadata": {},
   "outputs": [
    {
     "data": {
      "text/plain": [
       "{'messages': [{'content': 'Tóm tắt văn bản được cung cấp và biến nó thành thẻ. Mỗi thẻ nên chứa một câu hỏi và một câu trả lời ngắn.\\n\\nPhương pháp lập trình động tương tự như chia để trị trong việc chia nhỏ vấn đề thành các vấn đề con nhỏ hơn và nhỏ hơn nữa. Nhưng không giống như chia để trị, những vấn đề phụ này không được giải quyết một cách độc lập. Thay vào đó, kết quả của các bài toán con nhỏ hơn này được ghi nhớ và sử dụng cho các bài toán con tương tự hoặc chồng chéo.\\n\\nLập trình động được sử dụng khi chúng ta gặp vấn đề, có thể chia thành các vấn đề con tương tự để có thể sử dụng lại kết quả của chúng. Hầu hết, các thuật toán này được sử dụng để tối ưu hóa. Trước khi giải bài toán con đang làm, thuật toán động sẽ thử kiểm tra kết quả của bài toán con đã giải trước đó. Các giải pháp của các vấn đề con được kết hợp để đạt được giải pháp tốt nhất.\\n\\nVì vậy, chúng ta có thể nói rằng -\\n\\nVấn đề sẽ có thể được chia thành vấn đề con chồng chéo nhỏ hơn.\\n\\nMột giải pháp tối ưu có thể đạt được bằng cách sử dụng giải pháp tối ưu của các bài toán con nhỏ hơn.\\n\\nCác thuật toán động sử dụng Memoization.\\n\\nso sánh\\nTrái ngược với các thuật toán tham lam, trong đó tối ưu hóa cục bộ được giải quyết, các thuật toán động được thúc đẩy để tối ưu hóa tổng thể vấn đề.\\n\\nTrái ngược với các thuật toán chia để trị, trong đó các giải pháp được kết hợp để đạt được một giải pháp tổng thể, các thuật toán động sử dụng đầu ra của một bài toán con nhỏ hơn và sau đó cố gắng tối ưu hóa một bài toán con lớn hơn. Các thuật toán động sử dụng Ghi nhớ để ghi nhớ đầu ra của các bài toán phụ đã được giải quyết.\\n\\nVí dụ\\nCác vấn đề máy tính sau đây có thể được giải quyết bằng cách sử dụng phương pháp lập trình động -\\n\\nDãy số Fibonacci\\nvấn đề về ba lô\\ntháp Hà Nội\\nTất cả các cặp đường đi ngắn nhất của Floyd-Warshall\\nĐường đi ngắn nhất của Dijkstra\\nlập kế hoạch dự án\\nLập trình động có thể được sử dụng theo cả cách từ trên xuống và từ dưới lên. Và tất nhiên, hầu hết thời gian, việc tham khảo đầu ra giải pháp trước đó rẻ hơn so với tính toán lại về chu kỳ CPU.',\n",
       "   'role': 'user'},\n",
       "  {'content': 'Câu hỏi: Lập trình động là gì và nó khác với phương pháp chia để trị như thế nào?\\n\\nTrả lời: Quy hoạch động là một kỹ thuật giải quyết vấn đề được sử dụng để tối ưu hóa. Nó chia nhỏ vấn đề thành các vấn đề con nhỏ hơn mà kết quả của chúng được ghi nhớ và sử dụng cho các vấn đề con tương tự hoặc chồng chéo. Nó khác với cách tiếp cận chia để trị ở chỗ nó không giải quyết các vấn đề phụ một cách độc lập mà thay vào đó kết hợp các giải pháp để đạt được giải pháp tổng thể tốt nhất.\\n\\nCâu hỏi: Các tính năng chính của các vấn đề có thể được giải quyết bằng lập trình động là gì?\\n\\nTrả lời: Các bài toán có thể giải quyết bằng quy hoạch động phải có khả năng chia thành các bài toán con chồng chéo nhỏ hơn và lời giải tối ưu của chúng phải đạt được bằng cách kết hợp lời giải của các bài toán con nhỏ hơn.\\n\\nCâu hỏi: Ghi nhớ trong lập trình động là gì và tại sao nó được sử dụng?\\n\\nTrả lời: Ghi nhớ là một kỹ thuật được sử dụng trong lập trình động để lưu trữ đầu ra của các bài toán con đã được giải quyết trong bộ nhớ, để chúng có thể dễ dàng truy xuất và sử dụng để giải các bài toán con tương tự hoặc chồng chéo. Nó được sử dụng để tối ưu hóa hiệu suất của thuật toán bằng cách tránh tính toán lại không cần thiết.\\n\\nCâu hỏi: Lập trình động khác với thuật toán tham lam như thế nào?\\n\\nTrả lời: Các thuật toán quy hoạch động được thiết kế để đạt được sự tối ưu tổng thể của bài toán, ngược lại các thuật toán tham lam được thiết kế để tối ưu hóa cục bộ. Trong lập trình động, các giải pháp của các bài toán con nhỏ hơn được kết hợp để đạt được giải pháp tốt nhất cho bài toán tổng thể, trong khi trong các thuật toán tham lam, tối ưu hóa cục bộ được giải quyết mà không xem xét bài toán tổng thể.\\n\\nCâu hỏi: Bạn có thể cung cấp một số ví dụ về các vấn đề máy tính có thể được giải quyết bằng lập trình động không?\\n\\nTrả lời: Một số ví dụ về các bài toán máy tính có thể giải bằng lập trình động bao gồm dãy số Fibonacci, bài toán chiếc ba lô, Tháp Hà Nội, tất cả các cặp đường đi ngắn nhất của Floyd-Warshall, đường đi ngắn nhất của Dijkstra và lập kế hoạch dự án.',\n",
       "   'role': 'bot'},\n",
       "  {'content': 'Viết lại các thẻ này thành một danh sách các cặp câu hỏi và câu trả lời ngắn. Sử dụng không quá 2 câu cho một trong hai câu hỏi hoặc câu trả lời.',\n",
       "   'role': 'user'}],\n",
       " 'prompt_id': None,\n",
       " 'prompt': None}"
      ]
     },
     "execution_count": 21,
     "metadata": {},
     "output_type": "execute_result"
    }
   ],
   "source": [
    "final_ds[0]"
   ]
  },
  {
   "cell_type": "code",
   "execution_count": 30,
   "metadata": {},
   "outputs": [],
   "source": [
    "TEMPLATE = \"\"\"Dưới đây là lịch sử hội thoại cho đến nay, và một câu hỏi mởi đặt ra bởi người dùng. Dựa vào lịch sử hội thoại và câu hỏi mới, hãy viết lại một câu hỏi hoàn chỉnh chứa thông tin ngữ cảnh của văn bản.\n",
    "Lịch sử trò chuyện:\n",
    "{history_text}\n",
    "Câu hỏi mới từ #User: {new_question}\"\"\"\n",
    "i = 0\n",
    "def mapper(x):\n",
    "    global i\n",
    "    messages = [t['content'] for t in x['messages'] if t['role'] == 'user']\n",
    "    messages = messages[:np.random.randint(1, 3)]\n",
    "    history_text = '\\n'.join([f'#User: {x}' for x in messages])\n",
    "    new_question = end_conversations[i]\n",
    "    i += 1\n",
    "    prompt = TEMPLATE.format(history_text=history_text, new_question=new_question)\n",
    "    return {\n",
    "        'messages': [\n",
    "            {'role':'user', 'content': prompt},\n",
    "            {'role':'assistant', 'content': new_question}\n",
    "        ]\n",
    "    }\n",
    "\n",
    "temp_final = final_ds.map(mapper).select_columns(['messages'])"
   ]
  },
  {
   "cell_type": "code",
   "execution_count": 55,
   "metadata": {},
   "outputs": [
    {
     "name": "stdout",
     "output_type": "stream",
     "text": [
      "Dưới đây là lịch sử hội thoại cho đến nay, và một câu hỏi mởi đặt ra bởi người dùng. Dựa vào lịch sử hội thoại và câu hỏi mới, hãy viết lại một câu hỏi hoàn chỉnh chứa thông tin ngữ cảnh của văn bản.\n",
      "Lịch sử trò chuyện:\n",
      "#User: Ghế ăn Emily sẽ phù hợp với bất kỳ bàn ăn nào đang tìm kiếm một chiếc ghế thiết kế hiện đại.\n",
      "Ghế được bọc nệm bằng lụa màu mù tạt, màu hải quân hoặc màu onyx. Chân màu đen.\n",
      "Bạn có thể gợi ý những chiếc ghế ăn khác nào có thiết kế hiện đại giống như ghế ăn Emily không?\n",
      "#User: Đó là một danh sách tuyệt vời về ghế ăn! Bạn có thể giới thiệu một chiếc ghế tương tự như ghế ăn Emily nhưng có tùy chọn màu sắc khác không?\n",
      "Câu hỏi mới từ #User: phải chiếc gì\n",
      "phải chiếc gì\n"
     ]
    }
   ],
   "source": [
    "a = temp_final.shuffle()[0]\n",
    "print(a['messages'][0]['content'])\n",
    "print(a['messages'][1]['content'])"
   ]
  },
  {
   "cell_type": "code",
   "execution_count": 57,
   "metadata": {},
   "outputs": [
    {
     "data": {
      "application/vnd.jupyter.widget-view+json": {
       "model_id": "c112874db23a423f94a7175c1da2cf20",
       "version_major": 2,
       "version_minor": 0
      },
      "text/plain": [
       "Creating json from Arrow format:   0%|          | 0/1 [00:00<?, ?ba/s]"
      ]
     },
     "metadata": {},
     "output_type": "display_data"
    },
    {
     "data": {
      "text/plain": [
       "748713"
      ]
     },
     "execution_count": 57,
     "metadata": {},
     "output_type": "execute_result"
    }
   ],
   "source": [
    "temp_final.to_json('./rewrite_end_conversation.jsonl', orient='records', lines=True, force_ascii=False)"
   ]
  },
  {
   "cell_type": "code",
   "execution_count": null,
   "metadata": {},
   "outputs": [],
   "source": []
  }
 ],
 "metadata": {
  "kernelspec": {
   "display_name": "Python 3",
   "language": "python",
   "name": "python3"
  },
  "language_info": {
   "codemirror_mode": {
    "name": "ipython",
    "version": 3
   },
   "file_extension": ".py",
   "mimetype": "text/x-python",
   "name": "python",
   "nbconvert_exporter": "python",
   "pygments_lexer": "ipython3",
   "version": "3.10.7"
  }
 },
 "nbformat": 4,
 "nbformat_minor": 2
}
