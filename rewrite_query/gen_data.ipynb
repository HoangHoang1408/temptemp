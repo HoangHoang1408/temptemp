{
 "cells": [
  {
   "cell_type": "code",
   "execution_count": 1,
   "metadata": {},
   "outputs": [],
   "source": [
    "import g4f\n",
    "from time import sleep\n",
    "from datasets import Dataset\n",
    "import json"
   ]
  },
  {
   "cell_type": "code",
   "execution_count": 2,
   "metadata": {},
   "outputs": [],
   "source": [
    "vi_ultra = Dataset.from_json(\n",
    "    \"/Users/phamhoang1408/Desktop/self-instruct/rewrite_query/en_clean_data/en_wivi.jsonl\"\n",
    ")\n",
    "vi_ultra = vi_ultra.filter(\n",
    "    lambda x: len(x[\"messages\"]) > 1 and (len(x[\"messages\"]) % 2 == 0)\n",
    ")"
   ]
  },
  {
   "cell_type": "code",
   "execution_count": 3,
   "metadata": {},
   "outputs": [
    {
     "data": {
      "text/plain": [
       "{'messages': [{'content': 'Can you explain the concept of carbon offsetting and how it can be used to mitigate the impact of carbon emissions?',\n",
       "   'role': 'user'},\n",
       "  {'content': 'Carbon offsetting is a way to balance out carbon emissions by investing in projects that reduce or remove greenhouse gas emissions from the atmosphere. The idea is that if an individual or organization cannot completely eliminate their own carbon emissions, they can invest in activities such as reforestation, renewable energy development, or energy efficiency improvements to counteract those emissions. This is achieved through purchasing carbon credits, which represent a reduction or removal of one tonne of carbon dioxide equivalent from the atmosphere.\\n\\nThe use of carbon offsets can help mitigate the environmental impact of carbon emissions, but it should not be viewed as a substitute for reducing emissions at the source. It is important to focus on reducing emissions as much as possible before relying on carbon offsets, as the effectiveness of offset programs can vary and there are concerns about their potential to enable businesses to continue emitting high levels of carbon while claiming to be “carbon neutral”.',\n",
       "   'role': 'assistant'},\n",
       "  {'content': 'What is the role of geoengineering in mitigating climate change?',\n",
       "   'role': 'user'},\n",
       "  {'content': 'Geoengineering refers to deliberate large-scale interventions in the Earth’s systems to mitigate climate change. There are two main categories of geoengineering: carbon dioxide removal (CDR) techniques and solar radiation management (SRM) techniques.\\n\\nCDR techniques aim to remove carbon dioxide from the atmosphere, either by enhancing natural processes such as photosynthesis or by using technologies such as direct air capture. SRM techniques aim to reflect sunlight back into space or increase the amount of heat that radiates back out into space, which can cool the planet and offset the warming effects of greenhouse gases.\\n\\nWhile some argue that geoengineering could provide a necessary solution to the challenge of climate change, others have raised concerns about its potential risks and unintended consequences. For example, some CDR techniques require large amounts of land or other resources, which could have negative environmental impacts. Additionally, SRM techniques could cause regional climate changes or have other unforeseen consequences.\\n\\nOverall, it is important to continue researching and evaluating the potential benefits and risks of different geoengineering approaches, but reducing greenhouse gas emissions at the source should remain the primary focus for mitigating climate change.',\n",
       "   'role': 'assistant'},\n",
       "  {'content': 'How does deforestation contribute to climate change?',\n",
       "   'role': 'user'},\n",
       "  {'content': 'Deforestation contributes to climate change in a number of ways. Trees absorb carbon dioxide from the atmosphere during photosynthesis and store it as carbon in their biomass. When trees are cut down or burned, this stored carbon is released back into the atmosphere as carbon dioxide, contributing to the buildup of greenhouse gases that trap heat and cause global warming.\\n\\nThe loss of trees also reduces the Earth’s ability to take up carbon dioxide from the atmosphere. Trees play an important role in the carbon cycle by absorbing carbon dioxide and releasing oxygen through photosynthesis. Deforestation disrupts this natural process, leading to higher levels of carbon dioxide in the atmosphere and exacerbating the effects of climate change.\\n\\nIn addition to its impact on carbon storage and sequestration, deforestation can also have other environmental consequences such as soil erosion, loss of biodiversity, and changes to regional climate patterns. It is important to address deforestation as part of efforts to mitigate climate change and protect ecosystems.',\n",
       "   'role': 'assistant'}]}"
      ]
     },
     "execution_count": 3,
     "metadata": {},
     "output_type": "execute_result"
    }
   ],
   "source": [
    "vi_ultra[0]"
   ]
  },
  {
   "cell_type": "code",
   "execution_count": 4,
   "metadata": {},
   "outputs": [],
   "source": [
    "# import random\n",
    "\n",
    "\n",
    "# TEMPLATE1 = \"\"\"Dưới đây là lịch sử trò chuyện cho đến nay, và một câu hỏi mới được đặt ra bởi người dùng cần được trả lời. Dựa vào lịch sử trò chuyện và câu hỏi mới, hãy tạo ra một câu hỏi hoàn chỉnh chứa thông tin ngữ cảnh của văn bản để tôi có thể trả lời mà không cần xem lại lịch sử trò chuyện.\n",
    "# Lịch sử trò chuyện:\n",
    "# {history_text}\n",
    "# Câu hỏi mới từ User: {new_question}\n",
    "# \"\"\"\n",
    "# TEMPLATE2 = \"\"\"Lưu ý: Trả về một câu hỏi dưới dạng json {\"question\": \"your_generated_question\"} và không đưa ra giải thích gì thêm\"\"\"\n",
    "\n",
    "\n",
    "# def get_response(history_messages, sleep_time=20):\n",
    "#     history_text = \"\"\n",
    "#     for turn in history_messages[:-2]:\n",
    "#         if turn[\"role\"] == \"user\":\n",
    "#             history_text += \"User: \" + turn[\"content\"] + \"\\n\"\n",
    "#         elif turn[\"role\"] == \"assistant\":\n",
    "#             history_text += \"Assistant: \" + turn[\"content\"] + \"\\n\"\n",
    "#     if history_text == \"\":\n",
    "#         history_text = \"Không có lịch sử trò chuyện\"\n",
    "#     new_question = history_messages[-2][\"content\"]\n",
    "#     prompt = TEMPLATE1.format(\n",
    "#                 history_text=history_text, new_question=new_question\n",
    "#             ) + TEMPLATE2\n",
    "#     while True:\n",
    "#         try:\n",
    "#             response = g4f.ChatCompletion.create(\n",
    "#                 provider=g4f.Provider.GeekGpt,\n",
    "#                 model=g4f.models.gpt_4,\n",
    "#                 messages=[{\"role\": \"user\", \"content\": prompt}],\n",
    "#             )\n",
    "#             return response\n",
    "#         except Exception as e:\n",
    "#             print(e)\n",
    "#             print(\"Request failed\")\n",
    "#             sleep(sleep_time)"
   ]
  },
  {
   "cell_type": "code",
   "execution_count": 5,
   "metadata": {},
   "outputs": [
    {
     "data": {
      "text/plain": [
       "{'messages': [{'content': 'Can you give me some examples of artificial intelligence in everyday life?',\n",
       "   'role': 'user'},\n",
       "  {'content': 'Sure! Examples of AI in everyday life include voice-activated assistants like Siri and Alexa, personalized recommendations on streaming services like Netflix, fraud detection systems in banking, facial recognition technology in social media apps, and even self-driving cars. AI is becoming increasingly prevalent and integrated into our daily routines.',\n",
       "   'role': 'assistant'},\n",
       "  {'content': 'How can artificial intelligence be used to improve healthcare?',\n",
       "   'role': 'user'},\n",
       "  {'content': \"AI has the potential to revolutionize healthcare in a number of ways. One example is through medical imaging analysis, where AI algorithms can quickly and accurately analyze images for signs of disease or abnormalities. AI can also be used to develop personalized treatment plans based on a patient's medical history and genetic information. Additionally, AI-powered chatbots can assist patients with routine healthcare queries, freeing up doctors' time for more complex cases.\",\n",
       "   'role': 'assistant'},\n",
       "  {'content': 'What are the ethical concerns surrounding artificial intelligence?',\n",
       "   'role': 'user'},\n",
       "  {'content': 'There are many ethical concerns surrounding AI, particularly in regards to its potential impact on employment, privacy, and bias. Some worry that AI will replace human workers, leading to widespread job loss and economic inequality. Others are concerned about the use of AI for surveillance and data mining, which could compromise individual privacy. Finally, there is concern about the possibility of algorithmic bias, where AI systems replicate and amplify existing societal biases, leading to discriminatory outcomes.',\n",
       "   'role': 'assistant'},\n",
       "  {'content': 'How can we ensure that artificial intelligence is developed and used responsibly?',\n",
       "   'role': 'user'},\n",
       "  {'content': 'To ensure responsible development and use of AI, it is important to invest in research and development of ethical AI principles and guidelines. This includes promoting transparency and accountability in AI decision-making processes, as well as addressing issues of bias and discrimination. Additionally, policymakers can work to establish regulations and standards for AI development and deployment, while encouraging collaboration between stakeholders across industries and sectors. Ultimately, it will take a collective effort to ensure that AI is developed and used in a way that benefits society as a whole.',\n",
       "   'role': 'assistant'}]}"
      ]
     },
     "execution_count": 5,
     "metadata": {},
     "output_type": "execute_result"
    }
   ],
   "source": [
    "vi_ultra[1]"
   ]
  },
  {
   "cell_type": "code",
   "execution_count": 6,
   "metadata": {},
   "outputs": [],
   "source": [
    "# data = []\n",
    "# start = 0\n",
    "# for i, row in enumerate(vi_ultra, start=start):\n",
    "#     history_messages = row[\"messages\"]\n",
    "#     num_turn = random.choice([2, 4, 6])\n",
    "#     history_messages = history_messages[:num_turn]\n",
    "#     print(f\"I: {i}, Num turn: {num_turn}\")\n",
    "#     response = get_response(history_messages)\n",
    "#     data.append({\"history\": history_messages, \"generated_question\": response})\n",
    "#     if (i  + 1) % 20 == 0:\n",
    "#         with open(f\"./query_question/query_question_{i}.json\", \"w\") as f:\n",
    "#             json.dump(data, f, ensure_ascii=False)\n",
    "#         data = []"
   ]
  },
  {
   "cell_type": "code",
   "execution_count": 7,
   "metadata": {},
   "outputs": [],
   "source": [
    "# from glob import glob\n",
    "# from datasets import Dataset\n",
    "# import numpy as np\n",
    "# import pandas as pd\n",
    "# from pprint import pprint\n",
    "# import os\n",
    "# import json\n",
    "# from time import sleep\n",
    "\n",
    "# oasst = Dataset.from_json('./clean_data/oasst.jsonl')\n",
    "# quora = Dataset.from_json('./clean_data/quora.jsonl')\n",
    "# wivi = Dataset.from_json('./clean_data/wivi.jsonl')"
   ]
  },
  {
   "cell_type": "code",
   "execution_count": 8,
   "metadata": {},
   "outputs": [],
   "source": [
    "# TEMPLATE1 = \"\"\"Dưới đây là lịch sử trò chuyện cho đến nay, và một câu hỏi mới được đặt ra bởi người dùng cần được trả lời. Dựa vào lịch sử trò chuyện và câu hỏi mới, hãy viết lại câu hỏi mới ngắn gọn, chứa thông tin ngữ cảnh của lịch sử để tôi có thể trả lời câu hỏi mới đó mà không cần xem lại lịch sử trò chuyện.\n",
    "# Lịch sử trò chuyện:\n",
    "# {history_text}\n",
    "# Câu hỏi mới từ User: {new_question}\n",
    "# \"\"\"\n",
    "# TEMPLATE2 = \"\"\"Lưu ý:\n",
    "# 1) Trả về một câu hỏi ngắn gọn, đủ ý dưới dạng json {\"question\": \"your_generated_question\"} và không đưa ra giải thích gì thêm.\n",
    "# 2) Tập trung vào nội dung câu hỏi mới từ User, lược bỏ các thông tin không cần thiết trong lịch hội thoại và không sinh ra câu hỏi có nội dung không liên quan tới cuộc hội thoại.\n",
    "# \"\"\"\n",
    "TEMPLATE1 = \"\"\"Below is the conversation history so far, and a new question asked by the user needs to be answered. Based on the conversation history and the new question, please write a new question that is short, contains the context of the history so that I can answer the new question without having to look back at the conversation history.\n",
    "Conversation history:\n",
    "{history_text}\n",
    "New question from User: {new_question}\n",
    "\"\"\"\n",
    "TEMPLATE2 = \"\"\"Note:\n",
    "1) Return a short, meaningful question in Vietnamese in the form of json {\"question\": \"your_generated_question\"} and do not give any further explanation.\n",
    "2) Focus on the content of the new question from the User, omit unnecessary information in the conversation history and do not generate content that are not related to the conversation.\n",
    "\"\"\"\n",
    "\n",
    "\n",
    "def get_response(history_messages, sleep_time=20):\n",
    "    history_text = \"\"\n",
    "    for turn in history_messages[:-2]:\n",
    "        if turn[\"role\"] == \"user\":\n",
    "            history_text += \"User: \" + turn[\"content\"] + \"\\n\"\n",
    "        elif turn[\"role\"] == \"assistant\":\n",
    "            history_text += \"Assistant: \" + turn[\"content\"] + \"\\n\"\n",
    "    if history_text == \"\":\n",
    "        history_text = \"Không có lịch sử trò chuyện\"\n",
    "    new_question = history_messages[-2][\"content\"]\n",
    "    prompt = (\n",
    "        TEMPLATE1.format(history_text=history_text, new_question=new_question)\n",
    "        + TEMPLATE2\n",
    "    )\n",
    "    print(prompt)\n",
    "    while True:\n",
    "        try:\n",
    "            response = g4f.ChatCompletion.create(\n",
    "                provider=g4f.Provider.GeekGpt,\n",
    "                model=g4f.models.gpt_4,\n",
    "                messages=[{\"role\": \"user\", \"content\": prompt}],\n",
    "            )\n",
    "            return response\n",
    "        except Exception as e:\n",
    "            print(e)\n",
    "            print(\"Request failed\")\n",
    "            sleep(sleep_time)"
   ]
  },
  {
   "cell_type": "code",
   "execution_count": 12,
   "metadata": {},
   "outputs": [
    {
     "name": "stdout",
     "output_type": "stream",
     "text": [
      "Num turn: 2\n",
      "User: That's helpful. How can I use machine learning to classify images?\n",
      "Assistant: Answer from Assistant (Ignore this information).\n",
      "Below is the conversation history so far, and a new question asked by the user needs to be answered. Based on the conversation history and the new question, please write a new question that is short, contains the context of the history so that I can answer the new question without having to look back at the conversation history.\n",
      "Conversation history:\n",
      "Không có lịch sử trò chuyện\n",
      "New question from User: That's helpful. How can I use machine learning to classify images?\n",
      "Note:\n",
      "1) Return a short, meaningful question in Vietnamese in the form of json {\"question\": \"your_generated_question\"} and do not give any further explanation.\n",
      "2) Focus on the content of the new question from the User, omit unnecessary information in the conversation history and do not generate content that are not related to the conversation.\n",
      "\n",
      "429 Client Error: Too Many Requests for url: https://ai.fakeopen.com/v1/chat/completions\n",
      "Request failed\n",
      "{\"question\": \"Làm thế nào tôi có thể sử dụng học máy để phân loại hình ảnh?\"}\n"
     ]
    }
   ],
   "source": [
    "import random\n",
    "\n",
    "temp = vi_ultra.shuffle()[0]\n",
    "\n",
    "history_messages = temp[\"messages\"]\n",
    "num_turn = random.choice([2, 4, 6])\n",
    "history_messages = history_messages[:num_turn]\n",
    "for i in range(len(history_messages)):\n",
    "    message = history_messages[i]\n",
    "    if message[\"role\"] in [\"assistant\", \"bot\"]:\n",
    "        history_messages[i][\n",
    "            \"content\"\n",
    "        ] = \"Answer from Assistant (Ignore this information).\"\n",
    "\n",
    "\n",
    "print(f\"Num turn: {num_turn}\")\n",
    "for turn in history_messages:\n",
    "    if turn[\"role\"] == \"user\":\n",
    "        print(\"User: \" + turn[\"content\"])\n",
    "    elif turn[\"role\"] in [\"assistant\", \"bot\"]:\n",
    "        print(\"Assistant: \" + turn[\"content\"])\n",
    "\n",
    "response = get_response(history_messages)\n",
    "print(response)"
   ]
  },
  {
   "cell_type": "code",
   "execution_count": null,
   "metadata": {},
   "outputs": [],
   "source": []
  }
 ],
 "metadata": {
  "kernelspec": {
   "display_name": "Python 3",
   "language": "python",
   "name": "python3"
  },
  "language_info": {
   "codemirror_mode": {
    "name": "ipython",
    "version": 3
   },
   "file_extension": ".py",
   "mimetype": "text/x-python",
   "name": "python",
   "nbconvert_exporter": "python",
   "pygments_lexer": "ipython3",
   "version": "3.10.7"
  }
 },
 "nbformat": 4,
 "nbformat_minor": 2
}
