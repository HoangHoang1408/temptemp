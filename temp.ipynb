{
 "cells": [
  {
   "cell_type": "code",
   "execution_count": 1,
   "metadata": {},
   "outputs": [],
   "source": [
    "import numpy as np\n",
    "import pandas as pd\n",
    "import matplotlib.pyplot as plt\n",
    "from matplotlib import rcParams\n",
    "import seaborn as sns\n",
    "import warnings\n",
    "\n",
    "sns.set()\n",
    "rcParams['figure.figsize'] = (20,10)\n",
    "pd.options.display.max_columns = None\n",
    "warnings.filterwarnings('ignore')\n",
    "from pprint import pprint\n",
    "import json"
   ]
  },
  {
   "cell_type": "code",
   "execution_count": 29,
   "metadata": {},
   "outputs": [
    {
     "name": "stdout",
     "output_type": "stream",
     "text": [
      "1.1365630830005102\n"
     ]
    }
   ],
   "source": [
    "a = pd.DataFrame({'color':np.random.choice(['red','green'],size=1000000,replace=True)})\n",
    "from time import perf_counter\n",
    "start = perf_counter()\n",
    "temp = a.to_dict()['color']\n",
    "results = []\n",
    "for i in range(len(temp)):\n",
    "    if i < 2:\n",
    "        results.append(0)\n",
    "        continue\n",
    "    if temp[i-1] == temp[i-2] == 'red' and temp[i] == 'green':\n",
    "        results.append(1)\n",
    "        continue\n",
    "    if i < 3:\n",
    "        results.append(0)\n",
    "        continue\n",
    "    if temp[i] == temp[i-1] == 'green' and temp[i-2] == temp[i-3] == 'red':\n",
    "        results.append(1)\n",
    "        continue\n",
    "    results.append(0)\n",
    "a['result'] = results \n",
    "end = perf_counter()\n",
    "print(end-start)       "
   ]
  },
  {
   "cell_type": "code",
   "execution_count": 27,
   "metadata": {},
   "outputs": [
    {
     "name": "stdout",
     "output_type": "stream",
     "text": [
      "9.94124174999979\n"
     ]
    }
   ],
   "source": [
    "a = pd.DataFrame(\n",
    "    {\"color\": np.random.choice([\"red\", \"green\"], size=1000000, replace=True)}\n",
    ")\n",
    "a[\"shift_1\"] = a[\"color\"].shift(1)\n",
    "a[\"shift_2\"] = a[\"color\"].shift(2)\n",
    "a[\"shift_3\"] = a[\"color\"].shift(3)\n",
    "\n",
    "\n",
    "def applier(x):\n",
    "    if x[\"shift_1\"] == x[\"shift_2\"] == \"red\" and x[\"color\"] == \"green\":\n",
    "        return 1\n",
    "    if x[\"color\"] == x[\"shift_1\"] == \"green\" and x[\"shift_2\"] == x[\"shift_3\"] == \"red\":\n",
    "        return 1\n",
    "    return 0\n",
    "\n",
    "from time import perf_counter\n",
    "start = perf_counter()\n",
    "a[\"result\"] = a.apply(applier, axis=1)\n",
    "end = perf_counter()\n",
    "print(end-start)"
   ]
  },
  {
   "cell_type": "code",
   "execution_count": 20,
   "metadata": {},
   "outputs": [
    {
     "data": {
      "text/html": [
       "<div>\n",
       "<style scoped>\n",
       "    .dataframe tbody tr th:only-of-type {\n",
       "        vertical-align: middle;\n",
       "    }\n",
       "\n",
       "    .dataframe tbody tr th {\n",
       "        vertical-align: top;\n",
       "    }\n",
       "\n",
       "    .dataframe thead th {\n",
       "        text-align: right;\n",
       "    }\n",
       "</style>\n",
       "<table border=\"1\" class=\"dataframe\">\n",
       "  <thead>\n",
       "    <tr style=\"text-align: right;\">\n",
       "      <th></th>\n",
       "      <th>color</th>\n",
       "      <th>shift_1</th>\n",
       "      <th>shift_2</th>\n",
       "      <th>shift_3</th>\n",
       "      <th>result</th>\n",
       "    </tr>\n",
       "  </thead>\n",
       "  <tbody>\n",
       "    <tr>\n",
       "      <th>0</th>\n",
       "      <td>green</td>\n",
       "      <td>None</td>\n",
       "      <td>None</td>\n",
       "      <td>None</td>\n",
       "      <td>0</td>\n",
       "    </tr>\n",
       "    <tr>\n",
       "      <th>1</th>\n",
       "      <td>red</td>\n",
       "      <td>green</td>\n",
       "      <td>None</td>\n",
       "      <td>None</td>\n",
       "      <td>0</td>\n",
       "    </tr>\n",
       "    <tr>\n",
       "      <th>2</th>\n",
       "      <td>red</td>\n",
       "      <td>red</td>\n",
       "      <td>green</td>\n",
       "      <td>None</td>\n",
       "      <td>0</td>\n",
       "    </tr>\n",
       "    <tr>\n",
       "      <th>3</th>\n",
       "      <td>green</td>\n",
       "      <td>red</td>\n",
       "      <td>red</td>\n",
       "      <td>green</td>\n",
       "      <td>1</td>\n",
       "    </tr>\n",
       "    <tr>\n",
       "      <th>4</th>\n",
       "      <td>green</td>\n",
       "      <td>green</td>\n",
       "      <td>red</td>\n",
       "      <td>red</td>\n",
       "      <td>1</td>\n",
       "    </tr>\n",
       "    <tr>\n",
       "      <th>5</th>\n",
       "      <td>red</td>\n",
       "      <td>green</td>\n",
       "      <td>green</td>\n",
       "      <td>red</td>\n",
       "      <td>0</td>\n",
       "    </tr>\n",
       "    <tr>\n",
       "      <th>6</th>\n",
       "      <td>green</td>\n",
       "      <td>red</td>\n",
       "      <td>green</td>\n",
       "      <td>green</td>\n",
       "      <td>0</td>\n",
       "    </tr>\n",
       "    <tr>\n",
       "      <th>7</th>\n",
       "      <td>red</td>\n",
       "      <td>green</td>\n",
       "      <td>red</td>\n",
       "      <td>green</td>\n",
       "      <td>0</td>\n",
       "    </tr>\n",
       "  </tbody>\n",
       "</table>\n",
       "</div>"
      ],
      "text/plain": [
       "   color shift_1 shift_2 shift_3  result\n",
       "0  green    None    None    None       0\n",
       "1    red   green    None    None       0\n",
       "2    red     red   green    None       0\n",
       "3  green     red     red   green       1\n",
       "4  green   green     red     red       1\n",
       "5    red   green   green     red       0\n",
       "6  green     red   green   green       0\n",
       "7    red   green     red   green       0"
      ]
     },
     "execution_count": 20,
     "metadata": {},
     "output_type": "execute_result"
    }
   ],
   "source": [
    "a"
   ]
  },
  {
   "cell_type": "code",
   "execution_count": null,
   "metadata": {},
   "outputs": [],
   "source": []
  }
 ],
 "metadata": {
  "kernelspec": {
   "display_name": "Python 3",
   "language": "python",
   "name": "python3"
  },
  "language_info": {
   "codemirror_mode": {
    "name": "ipython",
    "version": 3
   },
   "file_extension": ".py",
   "mimetype": "text/x-python",
   "name": "python",
   "nbconvert_exporter": "python",
   "pygments_lexer": "ipython3",
   "version": "3.10.7"
  }
 },
 "nbformat": 4,
 "nbformat_minor": 2
}
