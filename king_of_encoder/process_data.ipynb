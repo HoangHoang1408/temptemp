{
 "cells": [
  {
   "cell_type": "code",
   "execution_count": 1,
   "metadata": {},
   "outputs": [],
   "source": [
    "from glob import glob\n",
    "from datasets import Dataset\n",
    "import numpy as np\n",
    "import pandas as pd\n",
    "from pprint import pprint\n",
    "import os\n",
    "import json"
   ]
  },
  {
   "cell_type": "code",
   "execution_count": 2,
   "metadata": {},
   "outputs": [],
   "source": [
    "def extract_json(text):\n",
    "    try:\n",
    "        start = text.index('{')\n",
    "        end = text.index('}')\n",
    "        return eval(text[start:end+1])\n",
    "    except:\n",
    "        return None"
   ]
  },
  {
   "cell_type": "code",
   "execution_count": 4,
   "metadata": {},
   "outputs": [
    {
     "data": {
      "application/vnd.jupyter.widget-view+json": {
       "model_id": "eb88cd5fd76441d39676bbb20b804d6b",
       "version_major": 2,
       "version_minor": 0
      },
      "text/plain": [
       "Creating json from Arrow format:   0%|          | 0/75 [00:00<?, ?ba/s]"
      ]
     },
     "metadata": {},
     "output_type": "display_data"
    },
    {
     "data": {
      "text/plain": [
       "156430262"
      ]
     },
     "execution_count": 4,
     "metadata": {},
     "output_type": "execute_result"
    }
   ],
   "source": [
    "paths = glob('./data/**/**/*.json')\n",
    "data = []\n",
    "for path in paths:\n",
    "    with open(path, 'r') as f:\n",
    "        for temp in json.load(f):\n",
    "            passage = temp['passage']\n",
    "            for res in temp['responses']:\n",
    "                t = extract_json(res)\n",
    "                if t is not None:\n",
    "                    t['passage'] = passage\n",
    "                    data.append(t)\n",
    "final_data = []\n",
    "mapper = {\n",
    "    'relevant': 'positive',\n",
    "    'irrelevant': 'negative',\n",
    "}\n",
    "for row in data:\n",
    "    keys = list(row.keys())\n",
    "    type_ = keys[0].split('_')[1]\n",
    "    p = {}\n",
    "    for k in keys:\n",
    "        p[k.split('_')[0]] = row[k]\n",
    "    p['type'] = type_\n",
    "    try:\n",
    "        for k in mapper:\n",
    "            p[mapper[k]] = p[k]\n",
    "        del p['relevant']\n",
    "        del p['irrelevant']\n",
    "    except:\n",
    "        continue\n",
    "    final_data.append(p)\n",
    "ds = Dataset.from_list(final_data).shuffle()\n",
    "ds.to_json('./final_data_24_01_24.jsonl', orient='records', lines=True, force_ascii=False)"
   ]
  },
  {
   "cell_type": "code",
   "execution_count": 5,
   "metadata": {},
   "outputs": [
    {
     "data": {
      "text/plain": [
       "Dataset({\n",
       "    features: ['passage', 'type', 'positive', 'negative'],\n",
       "    num_rows: 74495\n",
       "})"
      ]
     },
     "execution_count": 5,
     "metadata": {},
     "output_type": "execute_result"
    }
   ],
   "source": [
    "ds"
   ]
  },
  {
   "cell_type": "code",
   "execution_count": 7,
   "metadata": {},
   "outputs": [
    {
     "name": "stdout",
     "output_type": "stream",
     "text": [
      "{'negative': 'Lễ mừng thọ có liên quan đến các nghi lễ tín ngưỡng nào khác '\n",
      "             'trong văn hóa người Việt Nam không?',\n",
      " 'passage': 'Title: Lễ mừng thọ của người Tày, Nùng ở Việt Nam\\n'\n",
      "            'Thầy táo, bà then rót ba chén rượi đặt trong khay đưa lên trên '\n",
      "            'gác cho anh con rể dâng lên thiên đình. Anh con rể lần lượt cầm '\n",
      "            'từng chén rượi đổ một ít vào lầu váng rồi vẩy rượu ra bốn phương. '\n",
      "            'Rượi này là tượng trưng cho mưa thuận gió hòa. Vừa vẩy, vừa hát:\\n'\n",
      "            'Người ta còn hình dung cuộc đời người đi qua trên cây cầu mệnh '\n",
      "            'bằng gỗ. Thời gian qua, cây cầu bị mục gãy lên phải sửa sang bắc '\n",
      "            'lại cầu cho chắc chắn. Thầy tào, bà then cho đẽo hai thanh gỗ dài '\n",
      "            'khoảng 40\\xa0cm, rộng khoảng 8\\xa0cm, hai đầu chốt hai đinh bằng '\n",
      "            'gỗ có đệm hai mảnh vải nhỏ trắng đen. sau lễ cây cầu mệnh tượng '\n",
      "            'trưng này được đem đóng ở góc vườn.\\n'\n",
      "            'Trồng cây mệnh: Cây mai hoặc cây chuối bứng cả rể được đem trồng '\n",
      "            'vào góc vườn có rào cẩn thận và được chăm sóc cho cây mọc xanh '\n",
      "            'tốt. Trong trường hợp khô hạn để đảm bảo cây mọc người ta thắp '\n",
      "            'hương vào một cây chuối trong vườn lấy cây đó là cây mệnh. Người '\n",
      "            'ta tin rằng những thứ đó có tác dụng hộ mệnh linh hồn sẽ thỏa mái '\n",
      "            'đi trên chiếc cầu, con đường rợp bóng mát sẽ tránh được mệt mỏi '\n",
      "            'ốm đau...\\n'\n",
      "            'Kết thúc.\\n'\n",
      "            'Đây là một trong những sinh hoạt văn hóa truyền thống tốt đẹp, '\n",
      "            'thể hiện sự quan tâm của con cháu và cộng đồng đối với người cao '\n",
      "            'tuổi.',\n",
      " 'positive': 'Làm thế nào người Tày, Nùng thể hiện sự tôn kính đối với người '\n",
      "             'cao tuổi trong lễ mừng thọ?',\n",
      " 'type': 'question'}\n"
     ]
    }
   ],
   "source": [
    "pprint(ds.shuffle()[0])"
   ]
  },
  {
   "cell_type": "code",
   "execution_count": null,
   "metadata": {},
   "outputs": [],
   "source": []
  }
 ],
 "metadata": {
  "kernelspec": {
   "display_name": "Python 3",
   "language": "python",
   "name": "python3"
  },
  "language_info": {
   "codemirror_mode": {
    "name": "ipython",
    "version": 3
   },
   "file_extension": ".py",
   "mimetype": "text/x-python",
   "name": "python",
   "nbconvert_exporter": "python",
   "pygments_lexer": "ipython3",
   "version": "3.10.7"
  }
 },
 "nbformat": 4,
 "nbformat_minor": 2
}
