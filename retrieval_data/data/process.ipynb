{
 "cells": [
  {
   "cell_type": "code",
   "execution_count": 1,
   "metadata": {},
   "outputs": [],
   "source": [
    "from glob import glob\n",
    "from datasets import Dataset\n",
    "import numpy as np\n",
    "import pandas as pd\n",
    "from pprint import pprint\n",
    "import os\n",
    "import json"
   ]
  },
  {
   "cell_type": "code",
   "execution_count": 14,
   "metadata": {},
   "outputs": [],
   "source": [
    "data = []\n",
    "paths = glob('./results*/*.json')\n",
    "for path in paths:\n",
    "    with open(path, 'r') as f:\n",
    "        data.extend(json.load(f))\n",
    "len(data)\n",
    "ds = Dataset.from_list(data)"
   ]
  },
  {
   "cell_type": "code",
   "execution_count": 15,
   "metadata": {},
   "outputs": [
    {
     "data": {
      "application/vnd.jupyter.widget-view+json": {
       "model_id": "37e72909cda5412099c49f740aa786f1",
       "version_major": 2,
       "version_minor": 0
      },
      "text/plain": [
       "Map:   0%|          | 0/23805 [00:00<?, ? examples/s]"
      ]
     },
     "metadata": {},
     "output_type": "display_data"
    }
   ],
   "source": [
    "def mapper(x):\n",
    "    return {\n",
    "        'words_pos': len(x['positive_document'].split()),\n",
    "        'words_had_neg': len(x['hard_negative_document'].split()),\n",
    "    }\n",
    "\n",
    "ds = ds.map(mapper)"
   ]
  },
  {
   "cell_type": "code",
   "execution_count": 13,
   "metadata": {},
   "outputs": [
    {
     "data": {
      "text/plain": [
       "<AxesSubplot:>"
      ]
     },
     "execution_count": 13,
     "metadata": {},
     "output_type": "execute_result"
    },
    {
     "data": {
      "image/png": "[encoded data removed]",
      "text/plain": [
       "<Figure size 432x288 with 1 Axes>"
      ]
     },
     "metadata": {
      "needs_background": "light"
     },
     "output_type": "display_data"
    }
   ],
   "source": [
    "ds.to_pandas()['len1'].hist(bins=100)"
   ]
  },
  {
   "cell_type": "code",
   "execution_count": 16,
   "metadata": {},
   "outputs": [
    {
     "data": {
      "application/vnd.jupyter.widget-view+json": {
       "model_id": "de005e50c3cb4d41a5a59871b912bc29",
       "version_major": 2,
       "version_minor": 0
      },
      "text/plain": [
       "Creating json from Arrow format:   0%|          | 0/24 [00:00<?, ?ba/s]"
      ]
     },
     "metadata": {},
     "output_type": "display_data"
    },
    {
     "data": {
      "text/plain": [
       "33284446"
      ]
     },
     "execution_count": 16,
     "metadata": {},
     "output_type": "execute_result"
    }
   ],
   "source": [
    "ds.to_json('final_16_01.jsonl', force_ascii=False, orient='records', lines=True)"
   ]
  },
  {
   "cell_type": "code",
   "execution_count": 6,
   "metadata": {},
   "outputs": [
    {
     "data": {
      "text/plain": [
       "{'user_query': 'Các phương pháp nào giúp cải thiện tư duy và trí nhớ hiệu quả nhất?',\n",
       " 'positive_document': 'Để cải thiện tư duy và trí nhớ, bạn có thể thực hiện các hoạt động như học ngoại ngữ, giải các bài toán logic, và thường xuyên đọc sách. Nghiên cứu đã chứng minh rằng việc rèn luyện tư duy thông qua những thách thức intellecual có thể nâng cao khả năng ghi nhớ và tập trung.',\n",
       " 'hard_negative_document': 'Dùng nước lọc có thể giúp cải thiện tư duy và trí nhớ đáng kể. Việc uống nước sạch giúp cung cấp dưỡng chất cho não, làm tăng sự tập trung và khả năng ghi nhớ. Hơn nữa, việc duy trì cân nặng lý tưởng cũng ảnh hưởng tích cực đến tư duy và trí nhớ. Điều này đã được chứng minh qua nhiều nghiên cứu khoa học.',\n",
       " 'task': 'Tìm kiếm thông tin về các phương pháp giúp cải thiện tư duy và trí nhớ.'}"
      ]
     },
     "execution_count": 6,
     "metadata": {},
     "output_type": "execute_result"
    }
   ],
   "source": [
    "import random\n",
    "\n",
    "\n",
    "random.choice(data)"
   ]
  },
  {
   "cell_type": "code",
   "execution_count": null,
   "metadata": {},
   "outputs": [],
   "source": []
  }
 ],
 "metadata": {
  "kernelspec": {
   "display_name": "Python 3",
   "language": "python",
   "name": "python3"
  },
  "language_info": {
   "codemirror_mode": {
    "name": "ipython",
    "version": 3
   },
   "file_extension": ".py",
   "mimetype": "text/x-python",
   "name": "python",
   "nbconvert_exporter": "python",
   "pygments_lexer": "ipython3",
   "version": "3.10.7"
  }
 },
 "nbformat": 4,
 "nbformat_minor": 2
}
