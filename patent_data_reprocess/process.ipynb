{
 "cells": [
  {
   "cell_type": "code",
   "execution_count": 22,
   "metadata": {},
   "outputs": [],
   "source": [
    "from glob import glob\n",
    "from datasets import Dataset\n",
    "import numpy as np\n",
    "import pandas as pd\n",
    "from pprint import pprint\n",
    "import os\n",
    "import json\n",
    "import g4f\n",
    "from time import sleep"
   ]
  },
  {
   "cell_type": "code",
   "execution_count": 5,
   "metadata": {},
   "outputs": [],
   "source": [
    "ds = Dataset.from_parquet(\"./data/train.parquet\")\n",
    "ds = ds.filter(lambda x: x[\"lang\"] == \"vi\")\n",
    "dolphin = ds.filter(lambda x: x[\"source\"] == \"dolphin\")\n",
    "orca_mqa = ds.filter(lambda x: x[\"source\"] == \"orca_mqa\")"
   ]
  },
  {
   "cell_type": "code",
   "execution_count": 23,
   "metadata": {},
   "outputs": [
    {
     "data": {
      "text/plain": [
       "alpaca      0.432246\n",
       "dolphin     0.294713\n",
       "orca_mqa    0.147356\n",
       "wizard      0.098238\n",
       "dolly       0.027448\n",
       "Name: source, dtype: float64"
      ]
     },
     "execution_count": 23,
     "metadata": {},
     "output_type": "execute_result"
    }
   ],
   "source": [
    "ds.to_pandas()['source'].value_counts() / len(ds)"
   ]
  },
  {
   "cell_type": "code",
   "execution_count": 104,
   "metadata": {},
   "outputs": [],
   "source": [
    "TEMPLATE1 = \"\"\"Sau đây là một phản hồi cho người dùng, hãy viết lại phản hồi thoả mãn các tiêu chí sau:\n",
    "1) Nếu trong phản hồi đề cập tới bất kỳ nguồn thông tin nào để trả lời cho câu hỏi như: 'Trong đoạn văn được đề cập tới', 'Theo báo cáo', 'trong tài liệu', 'trong bài báo', 'trong đoạn trích', ... Hãy sửa nguồn thông tin đó thành 'nguồn tài liệu được cung cấp'.\n",
    "2) Giữ nguyên những nguồn thông tin khác.\n",
    "3) Sửa câu trả lời đề nó trở nên tự nhiên hơn.\n",
    "***\n",
    "Ví dụ:\n",
    "- Phản hồi gốc: Sau khi đọc bài viết, câu trả lời đúng nhất là: C: không nên vứt túi đựng đồ ăn trưa. Bài báo đề cập rằng các câu lạc bộ môi trường yêu cầu học sinh mang bữa trưa của mình trong túi để có thể sử dụng lại, như một phần trong nỗ lực làm cho môi trường trong sạch.\n",
    "- Phản hổi được viết lại: Dựa vào nguồn tài liệu được cung cấp, câu trả lời đúng nhất là: C: không nên vứt túi đựng đồ ăn trưa. Tài liệu đề cập rằng các câu lạc bộ môi trường yêu cầu học sinh mang bữa trưa của mình trong túi để có thể sử dụng lại, như một phần trong nỗ lực làm cho môi trường trong sạch.\n",
    "***\n",
    "- Phản hồi người dùng: {question}\n",
    "\"\"\"\n",
    "TEMPLATE2 = \"\"\"Lưu ý: Chỉ trả về phản hồi được viết lại dưới dạng json {\"rewritten_prompt\": \"your answer you rewrite\"}, không cần giải thích gì thêm.\"\"\"\n",
    "\n",
    "\n",
    "def sample_pool(n, pool):\n",
    "    if n >= len(pool):\n",
    "        return pool\n",
    "    return list(np.random.choice(pool, size=n, replace=False))\n",
    "\n",
    "\n",
    "def sample_seed(n, seed):\n",
    "    return list(np.random.choice(seed, size=n, replace=False))\n",
    "\n",
    "\n",
    "def get_response(prompt):\n",
    "    content = TEMPLATE1.format(question=prompt) + TEMPLATE2\n",
    "    print(content)\n",
    "    while True:\n",
    "        try:\n",
    "            response = g4f.ChatCompletion.create(\n",
    "                provider=g4f.Provider.GeekGpt,\n",
    "                model=g4f.models.gpt_4,\n",
    "                messages=[{\"role\": \"user\", \"content\": content}],\n",
    "            )\n",
    "            return response\n",
    "        except Exception as e:\n",
    "            print(e)\n",
    "            print(\"Request failed\")\n",
    "            sleep(10)\n",
    "\n",
    "\n",
    "def extract_json(response):\n",
    "    start = response.find(\"[\")\n",
    "    end = response.find(\"]\") + 1\n",
    "    if start == -1 or end == -1:\n",
    "        return None\n",
    "    try:\n",
    "        return eval(response[start:end])\n",
    "    except Exception as e:\n",
    "        return None"
   ]
  },
  {
   "cell_type": "code",
   "execution_count": 106,
   "metadata": {},
   "outputs": [
    {
     "name": "stdout",
     "output_type": "stream",
     "text": [
      "('Bài viết nói về Kathryn Smith và cộng sự của cô là Matthew Rigby, những '\n",
      " 'người đang bị xét xử vì tội giết con gái Ayeeshia Jane Smith của họ. '\n",
      " 'Ayeeshia chết vì trái tim rách nát do một cú va chạm mạnh, và cả cha và mẹ '\n",
      " 'đều phủ nhận cáo buộc. Bài báo thảo luận về tiền sử tự làm hại bản thân, lạm '\n",
      " 'dụng chất gây nghiện và các vấn đề sức khỏe tâm thần của Kathryn Smith cũng '\n",
      " 'như việc cô mang thai ngoài ý muốn. Nó cũng đề cập đến sự tham gia của các '\n",
      " 'dịch vụ xã hội, những người đã phát hiện ra Smith sống trong điều kiện không '\n",
      " 'phù hợp và sau đó lo ngại về khả năng chăm sóc con của cô ấy do các vấn đề '\n",
      " 'cá nhân của cô ấy. Phiên tòa đang diễn ra, Smith và Rigby cũng không nhận '\n",
      " 'tội cho phép hoặc gây ra cái chết và hành vi tàn ác đối với trẻ em.')\n"
     ]
    }
   ],
   "source": [
    "temp = dolphin.shuffle()[0]\n",
    "pprint(temp['output'])"
   ]
  },
  {
   "cell_type": "code",
   "execution_count": 111,
   "metadata": {},
   "outputs": [
    {
     "name": "stdout",
     "output_type": "stream",
     "text": [
      "('Bạn là một trợ lý AI. Người dùng sẽ giao cho bạn một nhiệm vụ. Mục tiêu của '\n",
      " 'bạn là hoàn thành nhiệm vụ một cách trung thực nhất có thể. Trong khi thực '\n",
      " 'hiện nhiệm vụ, hãy suy nghĩ từng bước một và biện minh cho các bước của '\n",
      " 'bạn.\\n'\n",
      " 'Tòa án Birmingham Crown cho biết Kathryn Smith, 23 tuổi, có tiền sử tự làm '\n",
      " 'hại bản thân, lạm dụng chất gây nghiện và các vấn đề về sức khỏe tâm thần và '\n",
      " 'việc mang thai của cô không phải là kế hoạch. Ayeeshia Jane Smith qua đời '\n",
      " 'tại nhà riêng ở Burton-upon-Trent, Staffordshire, khi trái tim cô bị xé nát '\n",
      " 'bởi một cú va chạm mạnh, bồi thẩm đoàn cho biết. Cô Smith và bạn trai '\n",
      " 'Matthew Rigby, 22 tuổi, đều đến từ Nottingham, phủ nhận tội giết người. Tòa '\n",
      " 'án cho biết cô Smith đang mang thai Ayeeshia gần ba tháng khi nữ hộ sinh '\n",
      " 'Hilary Sayles tìm thấy cô sống trong gara của cha cô ở Overseal, Derbyshire. '\n",
      " 'Bà Sayles nói: \"Có một chiếc giường và đồ nội thất nhưng rõ ràng là nó không '\n",
      " 'phù hợp với em bé mới sinh - hoặc bất kỳ ai\". Các dịch vụ xã hội đã chuyển '\n",
      " 'người mẹ tương lai đến nhà ở được hỗ trợ ở Swadlincote gần đó vào ngày hôm '\n",
      " 'sau. Cô Sayles nói: \"Cô ấy nói rằng cô ấy đã được nhận nuôi và tôi lo ngại '\n",
      " 'về tiền sử tự làm hại bản thân và các vấn đề về sức khỏe tâm thần cũng như '\n",
      " 'thực tế là cô ấy đã lạm dụng chất kích thích.\" Cô nói thêm: \"Tôi không biết '\n",
      " 'cô ấy đã trải qua những gì trong việc nuôi dạy con cái, bởi vì cô ấy đã được '\n",
      " 'nhận nuôi - ở giai đoạn nào tôi không biết - nhưng ngoài ra, vì mang thai '\n",
      " 'ngoài ý muốn, liệu cô ấy có thể sinh con được hay không.\" nhu cầu của con '\n",
      " 'mình trước nhu cầu của chính mình.\" Hai tuần trước khi Ayeeshia qua đời, các '\n",
      " 'nhân viên xã hội của Hội đồng hạt Derbyshire đã đến nhà cô sau khi có báo '\n",
      " 'cáo cho rằng cô Smith đã \"chịu ảnh hưởng của một chất kích thích\". Nhân viên '\n",
      " 'hỗ trợ chăm sóc Angela Moseley nói với bồi thẩm đoàn rằng cô nghĩ mình có '\n",
      " 'thể ngửi thấy mùi cần sa trong căn hộ và yêu cầu cô Smith làm xét nghiệm ma '\n",
      " 'túy tại chỗ, nhưng người mẹ từ chối. Bà Smith, ở Sandfield Road, Nottingham, '\n",
      " 'và ông Rigby, ở Sloan Drive, Nottingham, cũng không nhận tội đã cho phép '\n",
      " 'hoặc gây ra cái chết và sự tàn ác của một đứa trẻ. Phiên tòa tiếp tục. Bài '\n",
      " 'viết này nói về:')\n"
     ]
    }
   ],
   "source": [
    "pprint(temp['instruction'])"
   ]
  },
  {
   "cell_type": "code",
   "execution_count": 107,
   "metadata": {},
   "outputs": [
    {
     "name": "stdout",
     "output_type": "stream",
     "text": [
      "Sau đây là một phản hồi cho người dùng, hãy viết lại phản hồi thoả mãn các tiêu chí sau:\n",
      "1) Nếu trong phản hồi đề cập tới bất kỳ nguồn thông tin nào để trả lời cho câu hỏi như: 'Trong đoạn văn được đề cập tới', 'Theo báo cáo', 'trong tài liệu', 'trong bài báo', 'trong đoạn trích', ... Hãy sửa nguồn thông tin đó thành 'nguồn tài liệu được cung cấp'.\n",
      "2) Giữ nguyên những nguồn thông tin khác.\n",
      "3) Sửa câu trả lời đề nó trở nên tự nhiên hơn.\n",
      "***\n",
      "Ví dụ:\n",
      "- Phản hồi gốc: Sau khi đọc bài viết, câu trả lời đúng nhất là: C: không nên vứt túi đựng đồ ăn trưa. Bài báo đề cập rằng các câu lạc bộ môi trường yêu cầu học sinh mang bữa trưa của mình trong túi để có thể sử dụng lại, như một phần trong nỗ lực làm cho môi trường trong sạch.\n",
      "- Phản hổi được viết lại: Dựa vào nguồn tài liệu được cung cấp, câu trả lời đúng nhất là: C: không nên vứt túi đựng đồ ăn trưa. Tài liệu đề cập rằng các câu lạc bộ môi trường yêu cầu học sinh mang bữa trưa của mình trong túi để có thể sử dụng lại, như một phần trong nỗ lực làm cho môi trường trong sạch.\n",
      "***\n",
      "- Phản hồi người dùng: Bài viết nói về Kathryn Smith và cộng sự của cô là Matthew Rigby, những người đang bị xét xử vì tội giết con gái Ayeeshia Jane Smith của họ. Ayeeshia chết vì trái tim rách nát do một cú va chạm mạnh, và cả cha và mẹ đều phủ nhận cáo buộc. Bài báo thảo luận về tiền sử tự làm hại bản thân, lạm dụng chất gây nghiện và các vấn đề sức khỏe tâm thần của Kathryn Smith cũng như việc cô mang thai ngoài ý muốn. Nó cũng đề cập đến sự tham gia của các dịch vụ xã hội, những người đã phát hiện ra Smith sống trong điều kiện không phù hợp và sau đó lo ngại về khả năng chăm sóc con của cô ấy do các vấn đề cá nhân của cô ấy. Phiên tòa đang diễn ra, Smith và Rigby cũng không nhận tội cho phép hoặc gây ra cái chết và hành vi tàn ác đối với trẻ em.\n",
      "Lưu ý: Chỉ trả về phản hồi được viết lại dưới dạng json {\"rewritten_prompt\": \"your answer you rewrite\"}, không cần giải thích gì thêm.\n"
     ]
    }
   ],
   "source": [
    "a = get_response(temp['output'])"
   ]
  },
  {
   "cell_type": "code",
   "execution_count": 108,
   "metadata": {},
   "outputs": [
    {
     "name": "stdout",
     "output_type": "stream",
     "text": [
      "('{\"rewritten_prompt\": \"Dựa vào nguồn tài liệu được cung cấp, đối với vụ án '\n",
      " 'Kathryn Smith và Matthew Rigby liên quan đến cáo buộc giết con gái Ayeeshia '\n",
      " 'Jane Smith, cả hai cha mẹ đều phủ nhận tội ác. Tài liệu bàn luận về tiền sử '\n",
      " 'tự làm hại bản thân, lạm dụng chất gây nghiện, và vấn đề sức khỏe tâm thần '\n",
      " 'của Kathryn Smith, cũng như việc cô mang thai ngoài ý muốn. Nó cũng đề cập '\n",
      " 'đến sự tham gia của các dịch vụ xã hội, những người đã phát hiện ra Smith '\n",
      " 'sống trong điều kiện không phù hợp và sau đó lo ngại về khả năng chăm sóc '\n",
      " 'con của cô ấy do các vấn đề cá nhân của cô ấy. Phiên tòa đang diễn ra, và cả '\n",
      " 'hai bị cáo cũng không nhận tội cho hành vi gây ra cái chết và hành vi tàn ác '\n",
      " 'đối với trẻ em.\"}')\n"
     ]
    }
   ],
   "source": [
    "pprint(a)"
   ]
  },
  {
   "cell_type": "code",
   "execution_count": null,
   "metadata": {},
   "outputs": [],
   "source": [
    "text = 'Trong nhiệm vụ này, bạn được yêu cầu xác định xem có ít phím đàn hoặc quãng tám hơn trong bối cảnh một đoạn văn mô tả đàn mandolin Lombardi hay không. Đoạn văn được cung cấp đưa ra các đặc điểm cụ thể của đàn mandolin Lombardi và nó khác với đàn mandolin Neapolitan như thế nào. Để trả lời câu hỏi chúng ta có thể làm theo các bước sau:\\n\\n1. Xác định thông tin liên quan trong đoạn văn về phím đàn và quãng tám trong đàn mandolin Lombardi. 2. So sánh số phím đàn với số quãng tám. Trong đoạn văn, nó nói rằng đàn mandolin Lombardi có \"20 phím đàn, bao gồm ba quãng tám, cộng thêm 5 nốt.\" Bây giờ hãy so sánh số phím đàn với số quãng tám:\\n- Phím đàn: 20\\n- Quãng tám: 3\\n\\nTừ sự so sánh này, chúng ta có thể thấy rằng có nhiều phím đàn (20) hơn quãng tám (3). Vì vậy, câu trả lời cho câu hỏi \"Có ít phím đàn hoặc quãng tám hơn không?\" là: Có ít quãng tám hơn.'"
   ]
  }
 ],
 "metadata": {
  "kernelspec": {
   "display_name": "Python 3",
   "language": "python",
   "name": "python3"
  },
  "language_info": {
   "codemirror_mode": {
    "name": "ipython",
    "version": 3
   },
   "file_extension": ".py",
   "mimetype": "text/x-python",
   "name": "python",
   "nbconvert_exporter": "python",
   "pygments_lexer": "ipython3",
   "version": "3.10.7"
  }
 },
 "nbformat": 4,
 "nbformat_minor": 2
}
